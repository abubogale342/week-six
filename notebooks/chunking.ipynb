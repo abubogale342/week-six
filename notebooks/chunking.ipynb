{
 "cells": [
  {
   "cell_type": "code",
   "execution_count": null,
   "id": "d07380e8",
   "metadata": {},
   "outputs": [],
   "source": [
    "import pandas as pd\n",
    "\n",
    "df = pd.read_csv('../data/filtered_complaints.csv')\n",
    "\n",
    "df.rename(columns={'Consumer complaint narrative': 'cleaned_narrative'}, inplace=True)\n",
    "df.drop(columns=['narrative_length'], inplace=True)\n",
    "\n",
    "df.to_csv('../data/cleaned_complaints.csv', index=False)"
   ]
  },
  {
   "cell_type": "code",
   "execution_count": 28,
   "id": "6c9c6a54",
   "metadata": {},
   "outputs": [
    {
     "name": "stdout",
     "output_type": "stream",
     "text": [
      "Total number of chunks created using RecursiveCharacterTextSplitter: 1328485\n",
      "Sample of chunks (first 5 rows) from LangChain splitter:\n",
      "\n",
      "   original_narrative_id                                         chunk_text  \\\n",
      "0               14069121  A XXXX XXXX card was opened under my name by a...   \n",
      "1               14069121  agencies and this fraud is now impacting my cr...   \n",
      "2               14061897  I made the mistake of using my wellsfargo debi...   \n",
      "3               14061897  I went into the branch and was told they could...   \n",
      "4               14061897  I waited a few days and got a letter stating m...   \n",
      "\n",
      "   chunk_word_count  chunk_char_count  chunk_index  \n",
      "0                73               399            0  \n",
      "1                26               132            1  \n",
      "2                20               116            0  \n",
      "3                62               296            1  \n",
      "4                27               137            2  \n"
     ]
    }
   ],
   "source": [
    "from langchain_text_splitters import RecursiveCharacterTextSplitter\n",
    "\n",
    "df = pd.read_csv('../data/cleaned_complaints.csv')\n",
    "\n",
    "CHUNK_SIZE_WORDS = 400\n",
    "CHUNK_OVERLAP_WORDS = 50\n",
    "SHORT_THRESHOLD_WORDS = 10\n",
    "\n",
    "text_splitter = RecursiveCharacterTextSplitter(\n",
    "    chunk_size=CHUNK_SIZE_WORDS,\n",
    "    chunk_overlap=CHUNK_OVERLAP_WORDS,\n",
    "    length_function=len,\n",
    "    is_separator_regex=False,\n",
    ")\n",
    "\n",
    "all_chunks_data = []\n",
    "\n",
    "for index, row in df.iterrows():\n",
    "    complaint_id = row['Complaint ID']\n",
    "    cleaned_narrative = row['cleaned_narrative']\n",
    "    \n",
    "    chunks = text_splitter.create_documents([cleaned_narrative])\n",
    "    \n",
    "    for i, chunk_doc in enumerate(chunks):\n",
    "        chunk_text = chunk_doc.page_content\n",
    "        \n",
    "        all_chunks_data.append({\n",
    "            'original_narrative_id': complaint_id,\n",
    "            'chunk_text': chunk_text,\n",
    "            'chunk_word_count': len(chunk_text.split()),\n",
    "            'chunk_char_count': len(chunk_text),\n",
    "            'chunk_index': i\n",
    "        })\n",
    "\n",
    "df_chunks_lc = pd.DataFrame(all_chunks_data)\n",
    "print(f\"Total number of chunks created using RecursiveCharacterTextSplitter: {len(df_chunks_lc)}\")\n",
    "print(f\"Sample of chunks (first 5 rows) from LangChain splitter:\\n\")\n",
    "print(df_chunks_lc.head())\n",
    "\n"
   ]
  },
  {
   "cell_type": "code",
   "execution_count": 35,
   "id": "4640c5d7",
   "metadata": {},
   "outputs": [],
   "source": [
    "df_chunks_lc.to_csv(\"../data/chunks.csv\", index=False)"
   ]
  },
  {
   "cell_type": "code",
   "execution_count": 3,
   "id": "c35cc280",
   "metadata": {},
   "outputs": [
    {
     "name": "stderr",
     "output_type": "stream",
     "text": [
      "/home/hluf/Documents/Documents/projects/10_Academy/week-six/.venv/lib/python3.12/site-packages/tqdm/auto.py:21: TqdmWarning: IProgress not found. Please update jupyter and ipywidgets. See https://ipywidgets.readthedocs.io/en/stable/user_install.html\n",
      "  from .autonotebook import tqdm as notebook_tqdm\n"
     ]
    },
    {
     "name": "stdout",
     "output_type": "stream",
     "text": [
      "\n",
      "Loading Sentence Transformer model 'all-MiniLM-L6-v2'...\n",
      "Model loaded successfully!\n"
     ]
    }
   ],
   "source": [
    "from sentence_transformers import SentenceTransformer\n",
    "\n",
    "# --- 2. Load the Embedding Model ---\n",
    "print(\"\\nLoading Sentence Transformer model 'all-MiniLM-L6-v2'...\")\n",
    "try:\n",
    "    embedding_model = SentenceTransformer('all-MiniLM-L6-v2')\n",
    "    print(\"Model loaded successfully!\")\n",
    "except Exception as e:\n",
    "    print(f\"Error loading model: {e}\")\n",
    "    print(\"Please ensure you have an active internet connection to download the model.\")\n",
    "    print(\"If the issue persists, you might need to install 'torch' separately: pip install torch\")\n",
    "    # Exit or handle the error appropriately if the model can't be loaded\n"
   ]
  },
  {
   "cell_type": "code",
   "execution_count": null,
   "id": "47f75827",
   "metadata": {},
   "outputs": [
    {
     "name": "stdout",
     "output_type": "stream",
     "text": [
      "\n",
      "Generating embeddings for chunks...\n"
     ]
    },
    {
     "name": "stderr",
     "output_type": "stream",
     "text": [
      "Batches: 100%|██████████| 5190/5190 [1:01:35<00:00,  1.40it/s]\n"
     ]
    }
   ],
   "source": [
    "import pandas as pd\n",
    "\n",
    "df_chunks_lc = pd.read_csv(\"../data/chunks.csv\")\n",
    "\n",
    "# --- 3. Generate Embeddings for Chunks ---\n",
    "print(\"\\nGenerating embeddings for chunks...\")\n",
    "# This process can take some time depending on the number of chunks and your CPU/GPU.\n",
    "texts = df_chunks_lc['chunk_text'].tolist()\n",
    "embeddings = embedding_model.encode(texts, batch_size=256, show_progress_bar=True)\n",
    "df_chunks_lc['embedding'] = embeddings.tolist()\n",
    "print(\"Embeddings generated!\")\n",
    "\n",
    "# --- 4. Display Results ---\n",
    "print(f\"\\nDataFrame after embedding generation. Number of chunks: {len(df_chunks_lc)}\")\n",
    "print(\"Sample of DataFrame with 'embedding' column (first 2 rows):\\n\")\n",
    "print(df_chunks_lc.head(2))\n",
    "\n",
    "df_chunks_lc.to_csv(\"../data/embedded_chunks.csv\", index=False)\n",
    "\n",
    "# Verify the shape of a single embedding (should be 384 for all-MiniLM-L6-v2)\n",
    "if not df_chunks_lc.empty:\n",
    "    sample_embedding = df_chunks_lc['embedding'].iloc[0]\n",
    "    print(f\"\\nShape of a single embedding: {sample_embedding.shape}\") # Should output (384,)\n",
    "    print(f\"Data type of embedding: {type(sample_embedding)}\")\n"
   ]
  },
  {
   "cell_type": "code",
   "execution_count": 1,
   "id": "eb64e1c3",
   "metadata": {},
   "outputs": [
    {
     "ename": "NameError",
     "evalue": "name 'df_chunks_lc' is not defined",
     "output_type": "error",
     "traceback": [
      "\u001b[31m---------------------------------------------------------------------------\u001b[39m",
      "\u001b[31mNameError\u001b[39m                                 Traceback (most recent call last)",
      "\u001b[36mCell\u001b[39m\u001b[36m \u001b[39m\u001b[32mIn[1]\u001b[39m\u001b[32m, line 1\u001b[39m\n\u001b[32m----> \u001b[39m\u001b[32m1\u001b[39m \u001b[38;5;28mprint\u001b[39m(\u001b[43mdf_chunks_lc\u001b[49m.head(\u001b[32m2\u001b[39m))\n",
      "\u001b[31mNameError\u001b[39m: name 'df_chunks_lc' is not defined"
     ]
    }
   ],
   "source": [
    "print(df_chunks_lc.head(2))\n"
   ]
  }
 ],
 "metadata": {
  "kernelspec": {
   "display_name": ".venv",
   "language": "python",
   "name": "python3"
  },
  "language_info": {
   "codemirror_mode": {
    "name": "ipython",
    "version": 3
   },
   "file_extension": ".py",
   "mimetype": "text/x-python",
   "name": "python",
   "nbconvert_exporter": "python",
   "pygments_lexer": "ipython3",
   "version": "3.12.3"
  }
 },
 "nbformat": 4,
 "nbformat_minor": 5
}
